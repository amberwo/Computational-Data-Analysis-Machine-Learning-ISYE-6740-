{
 "cells": [
  {
   "cell_type": "code",
   "execution_count": 49,
   "id": "5093dff6-7128-4d09-bf07-34938484c641",
   "metadata": {},
   "outputs": [],
   "source": [
    "import numpy as np\n",
    "from sklearn.decomposition import PCA\n",
    "from sklearn.preprocessing import StandardScaler\n",
    "from sklearn.metrics import mean_squared_error"
   ]
  },
  {
   "cell_type": "code",
   "execution_count": 59,
   "id": "149491b0-ecf8-406b-b756-80da67cf85d1",
   "metadata": {},
   "outputs": [
    {
     "name": "stdout",
     "output_type": "stream",
     "text": [
      "Explained Variance Ratio Without Outliers:\n",
      " [1.00000000e+00 6.23711839e-34]\n",
      "Explained Variance Ratio With Outliers:\n",
      " [0.99714028 0.00285972]\n",
      "Reconstruction Error Without Outliers: 2.465190328815662e-32\n",
      "Reconstruction Error With Outliers: 9.334741699201884e-32\n"
     ]
    }
   ],
   "source": [
    "# Code references: https://www.kaggle.com/code/yairhadad1/detect-outliers-with-pca\n",
    "# https://www.geeksforgeeks.org/reduce-data-dimentionality-using-pca-python/\n",
    "# https://jakevdp.github.io/PythonDataScienceHandbook/05.09-principal-component-analysis.html\n",
    "\n",
    "# Define datasets for two scenarios for comparison\n",
    "X_wo_outliers = np.array([[1, 1], [2, 2], [3, 3], [4, 4], [5, 5]])\n",
    "X_outliers = np.array([[1, 1], [2, 2], [3, 3], [4, 4], [5, 5], [12, 16]])\n",
    "# Scale the datasets\n",
    "scaler_wo_outliers = StandardScaler()\n",
    "scaler_outliers = StandardScaler()\n",
    "X_wo_outliers_scaled = scaler_wo_outliers.fit_transform(X_wo_outliers)\n",
    "X_outliers_scaled = scaler_outliers.fit_transform(X_outliers)\n",
    "\n",
    "# Use PCA to fit the scaled datasets and compute explained variance ratio\n",
    "pca_wo_outliers = PCA()\n",
    "pca_outliers = PCA()\n",
    "pca_wo_outliers.fit(X_wo_outliers_scaled)\n",
    "pca_outliers.fit(X_outliers_scaled)\n",
    "\n",
    "# Explained Variance Ratio\n",
    "explained_variance_ratio_wo_outliers = pca_wo_outliers.explained_variance_ratio_\n",
    "explained_variance_ratio_outliers = pca_outliers.explained_variance_ratio_\n",
    "\n",
    "# Print Explained Variance Ratios\n",
    "print(\"Explained Variance Ratio Without Outliers:\\n\", explained_variance_ratio_wo_outliers)\n",
    "print(\"Explained Variance Ratio With Outliers:\\n\", explained_variance_ratio_outliers)\n",
    "\n",
    "# Compute Reconstruction Error\n",
    "# Transform data to lower dimensions and back to original space\n",
    "X_wo_outliers_reconstructed = pca_wo_outliers.inverse_transform(pca_wo_outliers.transform(X_wo_outliers_scaled))\n",
    "X_outliers_reconstructed = pca_outliers.inverse_transform(pca_outliers.transform(X_outliers_scaled))\n",
    "\n",
    "# Compute Mean Squared Error between original and reconstructed data\n",
    "reconstruction_error_wo_outliers = mean_squared_error(X_wo_outliers_scaled, X_wo_outliers_reconstructed)\n",
    "reconstruction_error_outliers = mean_squared_error(X_outliers_scaled, X_outliers_reconstructed)\n",
    "\n",
    "# Print Reconstruction Errors\n",
    "print(\"Reconstruction Error Without Outliers:\", reconstruction_error_wo_outliers)\n",
    "print(\"Reconstruction Error With Outliers:\", reconstruction_error_outliers)\n"
   ]
  },
  {
   "cell_type": "code",
   "execution_count": null,
   "id": "298c8efa-5876-4d72-837b-c02d1b1294bc",
   "metadata": {},
   "outputs": [],
   "source": []
  }
 ],
 "metadata": {
  "kernelspec": {
   "display_name": "Python 3 (ipykernel)",
   "language": "python",
   "name": "python3"
  },
  "language_info": {
   "codemirror_mode": {
    "name": "ipython",
    "version": 3
   },
   "file_extension": ".py",
   "mimetype": "text/x-python",
   "name": "python",
   "nbconvert_exporter": "python",
   "pygments_lexer": "ipython3",
   "version": "3.12.4"
  }
 },
 "nbformat": 4,
 "nbformat_minor": 5
}
